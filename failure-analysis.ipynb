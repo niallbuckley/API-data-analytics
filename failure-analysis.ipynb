{
 "cells": [
  {
   "cell_type": "code",
   "execution_count": 1,
   "id": "f5923c64",
   "metadata": {},
   "outputs": [],
   "source": [
    "%reload_ext autoreload\n",
    "%autoreload 2\n",
    "%matplotlib inline"
   ]
  },
  {
   "cell_type": "code",
   "execution_count": 2,
   "id": "a48102df",
   "metadata": {},
   "outputs": [],
   "source": [
    "import pandas as pd\n",
    "import numpy as np\n",
    "import matplotlib.pyplot as plt"
   ]
  },
  {
   "cell_type": "code",
   "execution_count": 3,
   "id": "44ca1705",
   "metadata": {},
   "outputs": [],
   "source": [
    "df = pd.read_csv('results/master_file.csv', sep=';')"
   ]
  },
  {
   "cell_type": "code",
   "execution_count": 4,
   "id": "cb04e3a9",
   "metadata": {},
   "outputs": [
    {
     "data": {
      "text/plain": [
       "(176570, 12)"
      ]
     },
     "execution_count": 4,
     "metadata": {},
     "output_type": "execute_result"
    }
   ],
   "source": [
    "df.shape"
   ]
  },
  {
   "cell_type": "code",
   "execution_count": 5,
   "id": "f7db1c95",
   "metadata": {},
   "outputs": [],
   "source": [
    "df.drop('Request ID', axis=1, inplace=True)\n",
    "df.drop('Test case name', axis=1, inplace=True)\n",
    "df.drop('Test suite name', axis=1, inplace=True)"
   ]
  },
  {
   "cell_type": "code",
   "execution_count": 6,
   "id": "4a9d76c2",
   "metadata": {},
   "outputs": [
    {
     "data": {
      "text/plain": [
       "Index(['Endpoint', 'Method', 'Status Code', 'Start time',\n",
       "       'Duration till headers received[ms]', 'Duration till body received[ms]',\n",
       "       'Request Body Length', 'Response Body Length', 'Test Result'],\n",
       "      dtype='object')"
      ]
     },
     "execution_count": 6,
     "metadata": {},
     "output_type": "execute_result"
    }
   ],
   "source": [
    "df.columns"
   ]
  },
  {
   "cell_type": "code",
   "execution_count": 7,
   "id": "b9d18bf7",
   "metadata": {},
   "outputs": [
    {
     "data": {
      "text/html": [
       "<div>\n",
       "<style scoped>\n",
       "    .dataframe tbody tr th:only-of-type {\n",
       "        vertical-align: middle;\n",
       "    }\n",
       "\n",
       "    .dataframe tbody tr th {\n",
       "        vertical-align: top;\n",
       "    }\n",
       "\n",
       "    .dataframe thead th {\n",
       "        text-align: right;\n",
       "    }\n",
       "</style>\n",
       "<table border=\"1\" class=\"dataframe\">\n",
       "  <thead>\n",
       "    <tr style=\"text-align: right;\">\n",
       "      <th></th>\n",
       "      <th>Endpoint</th>\n",
       "      <th>Method</th>\n",
       "      <th>Status Code</th>\n",
       "      <th>Start time</th>\n",
       "      <th>Duration till headers received[ms]</th>\n",
       "      <th>Duration till body received[ms]</th>\n",
       "      <th>Request Body Length</th>\n",
       "      <th>Response Body Length</th>\n",
       "      <th>Test Result</th>\n",
       "    </tr>\n",
       "  </thead>\n",
       "  <tbody>\n",
       "    <tr>\n",
       "      <th>count</th>\n",
       "      <td>176570</td>\n",
       "      <td>176570</td>\n",
       "      <td>176570.000000</td>\n",
       "      <td>176570</td>\n",
       "      <td>176570.000000</td>\n",
       "      <td>176570.000000</td>\n",
       "      <td>176570.000000</td>\n",
       "      <td>176570.000000</td>\n",
       "      <td>176570</td>\n",
       "    </tr>\n",
       "    <tr>\n",
       "      <th>unique</th>\n",
       "      <td>41</td>\n",
       "      <td>4</td>\n",
       "      <td>NaN</td>\n",
       "      <td>176570</td>\n",
       "      <td>NaN</td>\n",
       "      <td>NaN</td>\n",
       "      <td>NaN</td>\n",
       "      <td>NaN</td>\n",
       "      <td>2</td>\n",
       "    </tr>\n",
       "    <tr>\n",
       "      <th>top</th>\n",
       "      <td>/g/user</td>\n",
       "      <td>POST</td>\n",
       "      <td>NaN</td>\n",
       "      <td>2023-04-03 15:14:23.030</td>\n",
       "      <td>NaN</td>\n",
       "      <td>NaN</td>\n",
       "      <td>NaN</td>\n",
       "      <td>NaN</td>\n",
       "      <td>PASS</td>\n",
       "    </tr>\n",
       "    <tr>\n",
       "      <th>freq</th>\n",
       "      <td>55996</td>\n",
       "      <td>84716</td>\n",
       "      <td>NaN</td>\n",
       "      <td>1</td>\n",
       "      <td>NaN</td>\n",
       "      <td>NaN</td>\n",
       "      <td>NaN</td>\n",
       "      <td>NaN</td>\n",
       "      <td>173285</td>\n",
       "    </tr>\n",
       "    <tr>\n",
       "      <th>mean</th>\n",
       "      <td>NaN</td>\n",
       "      <td>NaN</td>\n",
       "      <td>229.567203</td>\n",
       "      <td>NaN</td>\n",
       "      <td>644.561149</td>\n",
       "      <td>737.753746</td>\n",
       "      <td>113.169259</td>\n",
       "      <td>615.292734</td>\n",
       "      <td>NaN</td>\n",
       "    </tr>\n",
       "    <tr>\n",
       "      <th>std</th>\n",
       "      <td>NaN</td>\n",
       "      <td>NaN</td>\n",
       "      <td>71.643950</td>\n",
       "      <td>NaN</td>\n",
       "      <td>2055.052325</td>\n",
       "      <td>3232.821377</td>\n",
       "      <td>216.993416</td>\n",
       "      <td>1072.367875</td>\n",
       "      <td>NaN</td>\n",
       "    </tr>\n",
       "    <tr>\n",
       "      <th>min</th>\n",
       "      <td>NaN</td>\n",
       "      <td>NaN</td>\n",
       "      <td>200.000000</td>\n",
       "      <td>NaN</td>\n",
       "      <td>0.000000</td>\n",
       "      <td>2.000000</td>\n",
       "      <td>0.000000</td>\n",
       "      <td>0.000000</td>\n",
       "      <td>NaN</td>\n",
       "    </tr>\n",
       "    <tr>\n",
       "      <th>25%</th>\n",
       "      <td>NaN</td>\n",
       "      <td>NaN</td>\n",
       "      <td>200.000000</td>\n",
       "      <td>NaN</td>\n",
       "      <td>68.000000</td>\n",
       "      <td>73.000000</td>\n",
       "      <td>0.000000</td>\n",
       "      <td>24.000000</td>\n",
       "      <td>NaN</td>\n",
       "    </tr>\n",
       "    <tr>\n",
       "      <th>50%</th>\n",
       "      <td>NaN</td>\n",
       "      <td>NaN</td>\n",
       "      <td>200.000000</td>\n",
       "      <td>NaN</td>\n",
       "      <td>121.000000</td>\n",
       "      <td>126.000000</td>\n",
       "      <td>36.000000</td>\n",
       "      <td>179.000000</td>\n",
       "      <td>NaN</td>\n",
       "    </tr>\n",
       "    <tr>\n",
       "      <th>75%</th>\n",
       "      <td>NaN</td>\n",
       "      <td>NaN</td>\n",
       "      <td>200.000000</td>\n",
       "      <td>NaN</td>\n",
       "      <td>460.000000</td>\n",
       "      <td>472.000000</td>\n",
       "      <td>83.000000</td>\n",
       "      <td>997.000000</td>\n",
       "      <td>NaN</td>\n",
       "    </tr>\n",
       "    <tr>\n",
       "      <th>max</th>\n",
       "      <td>NaN</td>\n",
       "      <td>NaN</td>\n",
       "      <td>462.000000</td>\n",
       "      <td>NaN</td>\n",
       "      <td>167193.000000</td>\n",
       "      <td>167197.000000</td>\n",
       "      <td>764.000000</td>\n",
       "      <td>11657.000000</td>\n",
       "      <td>NaN</td>\n",
       "    </tr>\n",
       "  </tbody>\n",
       "</table>\n",
       "</div>"
      ],
      "text/plain": [
       "       Endpoint  Method    Status Code               Start time  \\\n",
       "count    176570  176570  176570.000000                   176570   \n",
       "unique       41       4            NaN                   176570   \n",
       "top     /g/user    POST            NaN  2023-04-03 15:14:23.030   \n",
       "freq      55996   84716            NaN                        1   \n",
       "mean        NaN     NaN     229.567203                      NaN   \n",
       "std         NaN     NaN      71.643950                      NaN   \n",
       "min         NaN     NaN     200.000000                      NaN   \n",
       "25%         NaN     NaN     200.000000                      NaN   \n",
       "50%         NaN     NaN     200.000000                      NaN   \n",
       "75%         NaN     NaN     200.000000                      NaN   \n",
       "max         NaN     NaN     462.000000                      NaN   \n",
       "\n",
       "        Duration till headers received[ms]  Duration till body received[ms]  \\\n",
       "count                        176570.000000                    176570.000000   \n",
       "unique                                 NaN                              NaN   \n",
       "top                                    NaN                              NaN   \n",
       "freq                                   NaN                              NaN   \n",
       "mean                            644.561149                       737.753746   \n",
       "std                            2055.052325                      3232.821377   \n",
       "min                               0.000000                         2.000000   \n",
       "25%                              68.000000                        73.000000   \n",
       "50%                             121.000000                       126.000000   \n",
       "75%                             460.000000                       472.000000   \n",
       "max                          167193.000000                    167197.000000   \n",
       "\n",
       "        Request Body Length  Response Body Length Test Result  \n",
       "count         176570.000000         176570.000000      176570  \n",
       "unique                  NaN                   NaN           2  \n",
       "top                     NaN                   NaN        PASS  \n",
       "freq                    NaN                   NaN      173285  \n",
       "mean             113.169259            615.292734         NaN  \n",
       "std              216.993416           1072.367875         NaN  \n",
       "min                0.000000              0.000000         NaN  \n",
       "25%                0.000000             24.000000         NaN  \n",
       "50%               36.000000            179.000000         NaN  \n",
       "75%               83.000000            997.000000         NaN  \n",
       "max              764.000000          11657.000000         NaN  "
      ]
     },
     "execution_count": 7,
     "metadata": {},
     "output_type": "execute_result"
    }
   ],
   "source": [
    "df.describe(include='all')"
   ]
  },
  {
   "cell_type": "code",
   "execution_count": 8,
   "id": "0a108399",
   "metadata": {},
   "outputs": [
    {
     "data": {
      "text/plain": [
       "Endpoint                              /g/metric/camerabandwidth\n",
       "Method                                                      GET\n",
       "Status Code                                                 200\n",
       "Start time                              2023-04-11 22:05:12.339\n",
       "Duration till headers received[ms]                       167193\n",
       "Duration till body received[ms]                          167197\n",
       "Request Body Length                                           0\n",
       "Response Body Length                                       8899\n",
       "Test Result                                                PASS\n",
       "Name: 13374, dtype: object"
      ]
     },
     "execution_count": 8,
     "metadata": {},
     "output_type": "execute_result"
    }
   ],
   "source": [
    "# Max response time\n",
    "df.iloc[df['Duration till body received[ms]'].idxmax()]"
   ]
  },
  {
   "cell_type": "markdown",
   "id": "96775b45",
   "metadata": {},
   "source": [
    "# Median reponse time for PASS and FAIL"
   ]
  },
  {
   "cell_type": "code",
   "execution_count": 9,
   "id": "94efe006",
   "metadata": {},
   "outputs": [
    {
     "name": "stdout",
     "output_type": "stream",
     "text": [
      "Test Result\n",
      "FAIL    162.0\n",
      "PASS    126.0\n",
      "Name: Duration till body received[ms], dtype: float64\n"
     ]
    }
   ],
   "source": [
    "avg_time_by_result = df.groupby('Test Result')['Duration till body received[ms]'].median()\n",
    "print(avg_time_by_result)"
   ]
  },
  {
   "cell_type": "code",
   "execution_count": 10,
   "id": "cae16c38",
   "metadata": {},
   "outputs": [
    {
     "name": "stdout",
     "output_type": "stream",
     "text": [
      "                     Endpoint  Method Result  Pass_median Result  Fail_median\n",
      "0           /asset/list/image     GET   PASS         55.0   FAIL      10026.0\n",
      "1      /asset/prev/image.jpeg     GET   PASS        195.5   FAIL        124.0\n",
      "2         /g/aaa/authenticate    POST   PASS         65.0   FAIL         63.0\n",
      "3            /g/aaa/authorize    POST   PASS        681.0   FAIL        146.0\n",
      "4      /g/aaa/change_password    POST   PASS         98.0   FAIL         93.0\n",
      "5      /g/aaa/forgot_password    POST   PASS        375.0   FAIL        763.5\n",
      "6               /g/aaa/logout    POST   PASS         82.0   FAIL         75.0\n",
      "7             /g/cameratunnel     PUT   PASS       4030.0   FAIL      63366.0\n",
      "8                   /g/device  DELETE   PASS        673.0   FAIL        796.0\n",
      "9                   /g/device     GET   PASS        185.0   FAIL        245.0\n",
      "10                  /g/device     PUT   PASS       1170.0   FAIL      33245.0\n",
      "11                  /g/layout  DELETE   PASS        120.0   FAIL         45.0\n",
      "12                  /g/layout     GET   PASS         61.0   FAIL         48.0\n",
      "13                  /g/layout     PUT   PASS        116.0   FAIL        151.0\n",
      "14             /g/layout/list     GET   PASS         58.0   FAIL         61.0\n",
      "15            /g/list/devices     GET   PASS        292.0   FAIL        926.0\n",
      "16     /g/managed_switch/list     GET   PASS        122.5   FAIL        120.0\n",
      "17  /g/metric/camerabandwidth     GET   PASS        951.0   FAIL      65728.5\n",
      "18                    /g/user  DELETE   PASS        102.0   FAIL        152.0\n",
      "19                    /g/user    POST   PASS        154.0   FAIL        151.0\n",
      "20                    /g/user     PUT   PASS        143.0   FAIL        132.0\n",
      "21               /g/user/list     GET   PASS         52.0   FAIL         64.0\n"
     ]
    }
   ],
   "source": [
    "# Group the DataFrame by endpoint and Method, and calculate the median response time for each group\n",
    "grouped = df.groupby(['Endpoint', 'Method', 'Test Result']).agg({'Duration till body received[ms]': 'median'}).reset_index()\n",
    "\n",
    "# Filter the grouped DataFrame to include only PASS and FAIL results\n",
    "grouped_pass = grouped[grouped['Test Result'] == 'PASS']\n",
    "grouped_fail = grouped[grouped['Test Result'] == 'FAIL']\n",
    "\n",
    "# Merge the two DataFrames\n",
    "result = pd.merge(grouped_pass, grouped_fail, on=['Endpoint', 'Method'], suffixes=('_pass', '_fail'))\n",
    "\n",
    "# Rename the column headers to be more concise\n",
    "result = result.rename(columns={'Test Result_pass': 'Result', 'Test Result_fail': 'Result','Duration till body received[ms]_pass': 'Pass_median', 'Duration till body received[ms]_fail': 'Fail_median'})\n",
    "print(result)"
   ]
  },
  {
   "cell_type": "markdown",
   "id": "a85c1d1b",
   "metadata": {},
   "source": [
    "# Errors of each end point"
   ]
  },
  {
   "cell_type": "markdown",
   "id": "5b8d6fca",
   "metadata": {},
   "source": [
    "#### /g/aaa/authenticate"
   ]
  },
  {
   "cell_type": "code",
   "execution_count": 32,
   "id": "56ad610b",
   "metadata": {},
   "outputs": [
    {
     "name": "stdout",
     "output_type": "stream",
     "text": [
      "Status codes for endpoint '/g/aaa/authenticate':\n",
      "Status code 202: 13 occurrences\n",
      "Status code 412: 1 occurrences\n",
      "Status code 204: 152 occurrences\n",
      "Status code 403: 1 occurrences\n",
      "Status code 409: 5 occurrences\n",
      "Status code 400: 2 occurrences\n",
      "Endpoint                                        /g/aaa/logout\n",
      "Method                                                   POST\n",
      "Status Code                                               204\n",
      "Start time                            2023-03-28 21:06:33.704\n",
      "Duration till headers received[ms]                         54\n",
      "Duration till body received[ms]                            58\n",
      "Request Body Length                                         2\n",
      "Response Body Length                                        0\n",
      "Test Result                                              FAIL\n",
      "Name: 2587, dtype: object\n"
     ]
    }
   ],
   "source": [
    "# Filter the data to include only rows where the result column is 'failure'\n",
    "# and the endpoint name column is '/aaa/name'\n",
    "filtered_df = df[(df['Test Result'] == 'FAIL') & (df['Status Code'] != 200)]\n",
    "                # & (df['Method'] == 'PUT')]\n",
    "                # & (df['Endpoint'] == '/g/device')]\n",
    "\n",
    "# Group the filtered data by the status code column and count the number of occurrences of each status code\n",
    "#unique_status_codes = filtered_df.groupby('Status Code').size()\n",
    "\n",
    "# Group the filtered data by the endpoint name and status code columns, and count the number of occurrences of each status code\n",
    "grouped_df = filtered_df.groupby(['Endpoint', 'Status Code']).size().reset_index(name='count')\n",
    "\n",
    "# Print the unique status codes and their counts for the specified endpoint name\n",
    "print(f\"Status codes for endpoint '/g/aaa/authenticate':\")\n",
    "for index, row in grouped_df.iterrows():\n",
    "    print(f\"Status code {row['Status Code']}: {row['count']} occurrences\")\n",
    "\n",
    "example_row = filtered_df.iloc[0]\n",
    "print (example_row)"
   ]
  },
  {
   "cell_type": "code",
   "execution_count": null,
   "id": "04792e8a",
   "metadata": {},
   "outputs": [],
   "source": []
  }
 ],
 "metadata": {
  "kernelspec": {
   "display_name": "Python 3 (ipykernel)",
   "language": "python",
   "name": "python3"
  },
  "language_info": {
   "codemirror_mode": {
    "name": "ipython",
    "version": 3
   },
   "file_extension": ".py",
   "mimetype": "text/x-python",
   "name": "python",
   "nbconvert_exporter": "python",
   "pygments_lexer": "ipython3",
   "version": "3.9.10"
  },
  "vscode": {
   "interpreter": {
    "hash": "b0fa6594d8f4cbf19f97940f81e996739fb7646882a419484c72d19e05852a7e"
   }
  }
 },
 "nbformat": 4,
 "nbformat_minor": 5
}
