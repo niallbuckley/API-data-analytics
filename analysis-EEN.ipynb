{
 "cells": [
  {
   "cell_type": "code",
   "execution_count": 3,
   "id": "f5923c64",
   "metadata": {},
   "outputs": [],
   "source": [
    "%reload_ext autoreload\n",
    "%autoreload 2\n",
    "%matplotlib inline"
   ]
  },
  {
   "cell_type": "code",
   "execution_count": 4,
   "id": "960d019b",
   "metadata": {},
   "outputs": [],
   "source": [
    "import pandas as pd\n",
    "import numpy as np\n",
    "import matplotlib.pyplot as plt"
   ]
  },
  {
   "cell_type": "code",
   "execution_count": 17,
   "id": "3b321544",
   "metadata": {},
   "outputs": [],
   "source": [
    "df = pd.read_csv('een_api_dataset.csv', sep=';')"
   ]
  },
  {
   "cell_type": "code",
   "execution_count": 18,
   "id": "c8ac0cb8",
   "metadata": {},
   "outputs": [
    {
     "data": {
      "text/plain": [
       "(523, 12)"
      ]
     },
     "execution_count": 18,
     "metadata": {},
     "output_type": "execute_result"
    }
   ],
   "source": [
    "df.shape"
   ]
  },
  {
   "cell_type": "code",
   "execution_count": 20,
   "id": "573b9053",
   "metadata": {},
   "outputs": [
    {
     "name": "stdout",
     "output_type": "stream",
     "text": [
      "        Request ID  Test suite name Test case name             Endpoint  \\\n",
      "count   523.000000              523            523                  523   \n",
      "unique         NaN               38            170                   40   \n",
      "top            NaN  Change Password    Suite Setup  /g/aaa/authenticate   \n",
      "freq           NaN               98             69                   85   \n",
      "mean    265.936902              NaN            NaN                  NaN   \n",
      "std     152.516935              NaN            NaN                  NaN   \n",
      "min       1.000000              NaN            NaN                  NaN   \n",
      "25%     134.500000              NaN            NaN                  NaN   \n",
      "50%     267.000000              NaN            NaN                  NaN   \n",
      "75%     397.500000              NaN            NaN                  NaN   \n",
      "max     528.000000              NaN            NaN                  NaN   \n",
      "\n",
      "       Method  Status Code               Start time  \\\n",
      "count     523   523.000000                      523   \n",
      "unique      4          NaN                      523   \n",
      "top      POST          NaN  2023-03-14 19:54:46.310   \n",
      "freq      280          NaN                        1   \n",
      "mean      NaN   240.340344                      NaN   \n",
      "std       NaN    81.244928                      NaN   \n",
      "min       NaN   200.000000                      NaN   \n",
      "25%       NaN   200.000000                      NaN   \n",
      "50%       NaN   200.000000                      NaN   \n",
      "75%       NaN   201.000000                      NaN   \n",
      "max       NaN   462.000000                      NaN   \n",
      "\n",
      "        Duration till headers received[ms]  Duration till body received[ms]  \\\n",
      "count                           523.000000                       523.000000   \n",
      "unique                                 NaN                              NaN   \n",
      "top                                    NaN                              NaN   \n",
      "freq                                   NaN                              NaN   \n",
      "mean                            735.739962                       873.695985   \n",
      "std                            1854.353800                      3592.601094   \n",
      "min                               0.000000                         9.000000   \n",
      "25%                              60.000000                        63.000000   \n",
      "50%                             129.000000                       131.000000   \n",
      "75%                             669.500000                       672.500000   \n",
      "max                           30720.000000                     71086.000000   \n",
      "\n",
      "        Request Body Length  Response Body Length Test Result  \n",
      "count            523.000000            523.000000         523  \n",
      "unique                  NaN                   NaN           1  \n",
      "top                     NaN                   NaN        PASS  \n",
      "freq                    NaN                   NaN         523  \n",
      "mean             139.175908            624.625239         NaN  \n",
      "std              238.505925           1166.768147         NaN  \n",
      "min                0.000000              0.000000         NaN  \n",
      "25%                0.000000             24.000000         NaN  \n",
      "50%               49.000000            135.000000         NaN  \n",
      "75%               86.000000            589.000000         NaN  \n",
      "max              740.000000          10668.000000         NaN  \n"
     ]
    }
   ],
   "source": [
    "print (df.describe(include= \"all\"))"
   ]
  },
  {
   "cell_type": "code",
   "execution_count": null,
   "id": "a8fb45dc",
   "metadata": {},
   "outputs": [],
   "source": []
  }
 ],
 "metadata": {
  "kernelspec": {
   "display_name": "Python 3 (ipykernel)",
   "language": "python",
   "name": "python3"
  },
  "language_info": {
   "codemirror_mode": {
    "name": "ipython",
    "version": 3
   },
   "file_extension": ".py",
   "mimetype": "text/x-python",
   "name": "python",
   "nbconvert_exporter": "python",
   "pygments_lexer": "ipython3",
   "version": "3.9.10"
  }
 },
 "nbformat": 4,
 "nbformat_minor": 5
}
